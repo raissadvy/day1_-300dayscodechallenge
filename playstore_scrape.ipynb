{
  "nbformat": 4,
  "nbformat_minor": 0,
  "metadata": {
    "colab": {
      "name": "playstore_scrape.ipynb",
      "provenance": [],
      "collapsed_sections": []
    },
    "kernelspec": {
      "name": "python3",
      "display_name": "Python 3"
    }
  },
  "cells": [
    {
      "cell_type": "code",
      "metadata": {
        "colab": {
          "base_uri": "https://localhost:8080/"
        },
        "id": "LXJpl5chUh5_",
        "outputId": "59246469-cbb1-4614-8952-e9f9635517af"
      },
      "source": [
        "!pip install google-play-scraper"
      ],
      "execution_count": null,
      "outputs": [
        {
          "output_type": "stream",
          "text": [
            "Collecting google-play-scraper\n",
            "\u001b[?25l  Downloading https://files.pythonhosted.org/packages/ac/de/87c97ba42c156e53f0eb67a2b68a13d6f77da98d24f6d52f70c631c8e526/google-play-scraper-0.1.2.tar.gz (49kB)\n",
            "\r\u001b[K     |██████▋                         | 10kB 15.0MB/s eta 0:00:01\r\u001b[K     |█████████████▎                  | 20kB 12.5MB/s eta 0:00:01\r\u001b[K     |████████████████████            | 30kB 8.8MB/s eta 0:00:01\r\u001b[K     |██████████████████████████▌     | 40kB 7.7MB/s eta 0:00:01\r\u001b[K     |████████████████████████████████| 51kB 2.8MB/s \n",
            "\u001b[?25hBuilding wheels for collected packages: google-play-scraper\n",
            "  Building wheel for google-play-scraper (setup.py) ... \u001b[?25l\u001b[?25hdone\n",
            "  Created wheel for google-play-scraper: filename=google_play_scraper-0.1.2-cp36-none-any.whl size=22280 sha256=bb79a4abd7678e72e519c59a7b2c92ba801d56c41a813a4517045eec1b8f973a\n",
            "  Stored in directory: /root/.cache/pip/wheels/c3/0c/dc/847f7da787b7d2c28b26a5062f86eac3f16a8cb0bdfdc1f308\n",
            "Successfully built google-play-scraper\n",
            "Installing collected packages: google-play-scraper\n",
            "Successfully installed google-play-scraper-0.1.2\n"
          ],
          "name": "stdout"
        }
      ]
    },
    {
      "cell_type": "code",
      "metadata": {
        "id": "Wk0Xi5riU2wU"
      },
      "source": [
        "import json\n",
        "import pandas as pd\n",
        "import numpy as np\n",
        "\n",
        "from pygments import highlight\n",
        "from pygments.lexers import JsonLexer\n",
        "from pygments.formatters import Terminal256Formatter\n",
        "from pygments.style import Style\n",
        "from pygments.style import Token\n",
        "from pygments.token import Keyword, Name, Comment, String, Error, \\\n",
        "     Number, Operator, Generic\n",
        "\n",
        "from google_play_scraper import Sort, reviews_all, app\n",
        "\n"
      ],
      "execution_count": 91,
      "outputs": []
    },
    {
      "cell_type": "code",
      "metadata": {
        "colab": {
          "base_uri": "https://localhost:8080/"
        },
        "id": "0yV7CroAU5Tu",
        "outputId": "49790e02-104b-44a5-d762-da0462a5e919"
      },
      "source": [
        "# com.mtf.calculator.external\n",
        "info = app('com.mtf.calculator.external')\n",
        "print(type(info))"
      ],
      "execution_count": 92,
      "outputs": [
        {
          "output_type": "stream",
          "text": [
            "<class 'dict'>\n"
          ],
          "name": "stdout"
        }
      ]
    },
    {
      "cell_type": "code",
      "metadata": {
        "colab": {
          "base_uri": "https://localhost:8080/"
        },
        "id": "sgsCnw6npUe6",
        "outputId": "8b96f93e-27b7-43a0-ed54-00aa0c890152"
      },
      "source": [
        "info"
      ],
      "execution_count": 93,
      "outputs": [
        {
          "output_type": "execute_result",
          "data": {
            "text/plain": [
              "{'adSupported': None,\n",
              " 'androidVersion': '4.1',\n",
              " 'androidVersionText': '4.1 and up',\n",
              " 'appId': 'com.mtf.calculator.external',\n",
              " 'comments': ['Bad apps Cannot login cannot do anything',\n",
              "  'Nice apps. User experiencenya improve banget. Kudos!',\n",
              "  \"Can't login to user page\",\n",
              "  \"Can't sign up.. pls fix it\",\n",
              "  'Tolong perbaiki sign up nya! Gabisa sign up. App close',\n",
              "  'crash saat sign up',\n",
              "  'Percuma ada aplikasi, cs nya no respon baik email maupun wa',\n",
              "  'Ga bisa login, muncul sesi habis terus.',\n",
              "  'mau login aja susah tong',\n",
              "  'Nice uda update, sampe saat ini belom ada masalah 😁 keep it up',\n",
              "  'Cannot login. Padahal nasabah autodebet. Katanya ga support android 10. Saya coba d android 7 jg gbsa, iOS 13.1 jg gbisa.',\n",
              "  'fix uninstal..',\n",
              "  'Jadi tidak bisa login. Akun tidak terdaftar.',\n",
              "  'Dah diperbaiki ternyata. Good job. Semoga jadi terdepan dan semakin didepan',\n",
              "  'Keren bgt versi terbarunya! Menarik!',\n",
              "  'Wow exceptional',\n",
              "  'signup gak bisa, gak dapat token. ---------------------- Update, skrg dpt token yang dikirim ke email (5-10 menit prosesnya, lama) Setelah digunakan, aplikasi luemotnya minta ampun. Padahal game ku yang lebih kompleks dan grafisnya lebih kompleks aja lancar, ini aplikasi yang seharusnya ringan kenapa patah2 dan lelet ya? Pakai MTF Go serasa pakai HP jadul 😓😓😓. ---------------------- Update, sesudah update terbaru, sudah tidak lag lagi. Buka aplikasi MTF GO sudah gak berasa pakai HP jadul lagi',\n",
              "  'Aksesku msh sama error, fitur yang belum aktif msh tetap sama slama berbulan bulan, sepertinya menang tidak ada niatan untuk pembenahan. Sungguh disayangkan mengingat nama besar mandiri',\n",
              "  'Tidak ada opsi sign in. Dulu pas sign up lancar pakainya. Setelah saya ganti HP, download appnya, tidak ketemu opsi sign in. Coba sign up (satu2nya opsi yg tersedia) langsung crash appnya.',\n",
              "  'Beberapa minggu terakhir ini, aplikasi selalu crash ketika klik fitur AksesKu. Mohon diperbaiki. Terima kasih.',\n",
              "  'Aplikasinya error nihh gak bisa masuk menu \"aksesku\" 👎',\n",
              "  'Kok setiap masuk menu aksesku error trus ya?tolong dibenahin dong',\n",
              "  'Kalo blm ready apps nya.. lebih baik jangan dulu di publish Ada baik nya di qc dlu bagian IT nya, apalg kalo pake pihak ke 3',\n",
              "  'Saya berulang Kali mencoba login Dari menu aksesku namun tiap Kali login aplikasi langsung tertutup kembali. Ini MTF niat ga sih bikin aplikasi???!! Saya sudah berulang Kali tlp call center tapi ga ada solusi?? Kami ini nasabah mau liat record pembayaran cicilan Mobil kami???!!! Apa perlu di masukan ke Surat pembaca ini MTF!!',\n",
              "  'Force quit terus tiap kali mau ke menu akses ku...oiiii...sekelas mandiri,bikin app gak ada guna nya..',\n",
              "  'Aplikasinya lemot cacat, saat sign up tidak dikirimkan token nya, uda coba berkali kali tetap sama',\n",
              "  'Cacat.. Saya nasabahnya tetapi klik Aksesku diminta isi data pas klik sign up,gagal mulu.. Hahaha.. Esmosis!',\n",
              "  'Yg bikin aplikasi masih amatiran ya. Menu aksesku di klik ga keluar',\n",
              "  'Tidak bisa buka aksesku, langsung close terus',\n",
              "  'Belum bisa dipakai ya? Sign up aja belum bisa.',\n",
              "  'Eroorrr...eroooorr terus pas login..gak tau kenapa',\n",
              "  'Mantap',\n",
              "  'tidak menerima token saat sudah melakukan pendaftaran edited: token sudah berhasil dikirimkan melalui email. aplikasi cukup informatif menampilkan informasi pinjaman. yang kurang cuma respon atas permasalahan sedikit lama',\n",
              "  'Layout viewnya menarik dan mudah dipahani, ada katalog unitnya juga sehingga mempermudah kita memilih tipe kendaraan yang sesuai dengan kebutuhan kita. Top banget pokoknya!!',\n",
              "  'menarik tampilannya, sangat membantu user utk mengetahui perhitungan dan syarat kredit di MTF, banyak hal kita dapatkan seperti info promo, produk, info kantor cabang, spesifikasi berbagai tipe dan merek mobil, aplikasinya mantap ......',\n",
              "  'makin diupdate makin cacad.... parah... login with nya ga fungsi... udah login ga msk2... hrus daftar jg ujung2nya... percuma noh tombol2 login with facebook, twitter n google+ nya...',\n",
              "  'Aplikasi MTF GO ini sangat membantu untuk mengetahui informasi harga kendaraan dan agusrannya jika ingin credit',\n",
              "  'Aplikasi user friendly, banyak pilihan produk & praktis langsung mengetahui informasi angsuran. Kerennnn...',\n",
              "  'Tampilanny Keren dan menarik, tersedia simulasi kredit yang membantu customer banget...mantabzz👌',\n",
              "  'Mempermudah dalam perhitungan kredit.. semua brand mobil ada.. Keren Mandiri Tunas Finance aplikasinya'],\n",
              " 'containsAds': False,\n",
              " 'contentRating': 'Everyone',\n",
              " 'contentRatingDescription': None,\n",
              " 'currency': 'USD',\n",
              " 'description': 'MTF Mobile Application adalah sebuah aplikasi yang dapat membantu anda untuk mendapatkan informasi mengenai simulasi kredit kendaraan bermotor, produk dan promo yang ada di Mandiri Tunas Finance.\\r\\n\\r\\nSekilas tentang Mandiri Tunas Finance ,\\r\\n\\r\\nSetelah melalui proses akuisisi pada tanggal 6 Februari 2009 oleh PT Bank Mandiri, Tbk., PT Mandiri Tunas Finance menjadi salah satu anak usaha bank terbesar di Indonesia. Dengan dukungan lebih dari 2.300 Cabang Bank Mandiri, Akses Nasabah Mandiri, Event dan branding Mandiri, mendukung pertumbuhan PT Mandiri Tunas Finance menjadi perusahaan Pembiayaan terbesar dan terpercaya di Indonesia.\\r\\n\\r\\nDengan keunggulan produk yang lengkap, bunga yang kompetitif, jaringan 92 Cabang dengan 21 Satelit, serta kerjasama dengan semua merek kendaraan bermotor dan dengan tag line Proses Mudah dan Cepat (Fast & Easy), PT Mandiri Tunas Finance menjadi penyedia Solusi Pembiayaan Otomotif terbaik saat ini.',\n",
              " 'descriptionHTML': 'MTF Mobile Application adalah sebuah aplikasi yang dapat membantu anda untuk mendapatkan informasi mengenai simulasi kredit kendaraan bermotor, produk dan promo yang ada di Mandiri Tunas Finance.<br><br>Sekilas tentang Mandiri Tunas Finance ,<br><br>Setelah melalui proses akuisisi pada tanggal 6 Februari 2009 oleh PT Bank Mandiri, Tbk., PT Mandiri Tunas Finance menjadi salah satu anak usaha bank terbesar di Indonesia. Dengan dukungan lebih dari 2.300 Cabang Bank Mandiri, Akses Nasabah Mandiri, Event dan branding Mandiri, mendukung pertumbuhan PT Mandiri Tunas Finance menjadi perusahaan Pembiayaan terbesar dan terpercaya di Indonesia.<br><br>Dengan keunggulan produk yang lengkap, bunga yang kompetitif, jaringan 92 Cabang dengan 21 Satelit, serta kerjasama dengan semua merek kendaraan bermotor dan dengan tag line Proses Mudah dan Cepat (Fast &amp; Easy), PT Mandiri Tunas Finance menjadi penyedia Solusi Pembiayaan Otomotif terbaik saat ini.',\n",
              " 'developer': 'Mandiri Tunas Finance',\n",
              " 'developerAddress': None,\n",
              " 'developerEmail': 'mtfinance.id@gmail.co.id',\n",
              " 'developerId': 'Mandiri+Tunas+Finance',\n",
              " 'developerInternalID': '4785898978786445514',\n",
              " 'developerWebsite': 'http://www.mtf.co.id',\n",
              " 'editorsChoice': False,\n",
              " 'free': True,\n",
              " 'genre': 'Finance',\n",
              " 'genreId': 'FINANCE',\n",
              " 'headerImage': 'https://play-lh.googleusercontent.com/2_Ba7Q18LiipvHEbJRIhu6JKbe6AmUBHbKULj7gvDaNggcMwoXjIxRnluIaFvBFxdsc',\n",
              " 'histogram': [215, 39, 19, 107, 929],\n",
              " 'icon': 'https://play-lh.googleusercontent.com/t74uZjVwsfZdW3lew0Oa00MAl23D6bZqX3hSgTrjQ9unhBLDLUg-B_qyhV-fSPNaqoY',\n",
              " 'inAppProductPrice': None,\n",
              " 'installs': '100,000+',\n",
              " 'minInstalls': 100000,\n",
              " 'offersIAP': False,\n",
              " 'originalPrice': None,\n",
              " 'price': 0,\n",
              " 'privacyPolicy': 'http://mcalc.mtf.co.id:8887/privacy-policy.html',\n",
              " 'ratings': 1309,\n",
              " 'recentChanges': '1. Desain aplikasi terbaru yang lebih fresh\\r\\n2. Fitur bantuan jika anda mengalami kendala saat log in menu Aksesku\\r\\n3. User experience yang lebih mudah\\r\\n4. Bug dan error fix',\n",
              " 'recentChangesHTML': '1. Desain aplikasi terbaru yang lebih fresh<br>2. Fitur bantuan jika anda mengalami kendala saat log in menu Aksesku<br>3. User experience yang lebih mudah<br>4. Bug dan error fix',\n",
              " 'released': None,\n",
              " 'reviews': 601,\n",
              " 'sale': False,\n",
              " 'saleText': None,\n",
              " 'saleTime': None,\n",
              " 'score': 4.141791,\n",
              " 'screenshots': ['https://play-lh.googleusercontent.com/h32U64tnW5iGaKAll9nbNv4SwfzpBqaEFLevZSZiZMiDiIgvJIHoibjryymyGtM5gg',\n",
              "  'https://play-lh.googleusercontent.com/p3maydBG7aVEyS5bK1vcd2rGIJQC2oJ2bCtIj1OVb2m-QtEJRcG_6W-8IbthvYUCaEo',\n",
              "  'https://play-lh.googleusercontent.com/lEA3PYh4h8rMGNoDjN0h3vtp21lQBYJ8AY1IvFdmp46P18AgVklolwpEA_PEZz6zQGE',\n",
              "  'https://play-lh.googleusercontent.com/wQcWKfTHi2AvDwnck1R_pws07OCJve9MX7ddbLHWpcgUssZN_Khha_IisOmkPNAbrco',\n",
              "  'https://play-lh.googleusercontent.com/yt2X0i0MLc9jLWCTnfgdre-9ZrbRkTWVZTygr4MLdp_v0hggFBpLyM3ObQ0z5vX7reo',\n",
              "  'https://play-lh.googleusercontent.com/GLSznMefGitcxrQvYUiJvGcuYVvTrOa_vksBmnpKESDoszGApssaDm7p9FuytUgJH2c',\n",
              "  'https://play-lh.googleusercontent.com/mohzr4BcLiLu-x0zHU2NDjQhUhW5F5EvyWbbjL4GKxXv5DTSlq9yyx7vD057yn_EOIY',\n",
              "  'https://play-lh.googleusercontent.com/rBzyrmRldBxa_axG2zfxTwgkzgxegFZ6GcVHIJMUe6tzXxFSunYMk1L82nZ8F95bwg'],\n",
              " 'size': '16M',\n",
              " 'summary': 'Aplikasi simulasi perhitungan kredit, informasi katalog kendaraan dan promosi',\n",
              " 'summaryHTML': 'Aplikasi simulasi perhitungan kredit, informasi katalog kendaraan dan promosi',\n",
              " 'title': 'MTF GO',\n",
              " 'updated': 1601534263,\n",
              " 'url': 'https://play.google.com/store/apps/details?id=com.mtf.calculator.external&hl=en&gl=us',\n",
              " 'version': '3.1.9',\n",
              " 'video': 'https://www.youtube.com/embed/v9seF8Wugls?ps=play&vq=large&rel=0&autohide=1&showinfo=0',\n",
              " 'videoImage': 'https://i.ytimg.com/vi/v9seF8Wugls/hqdefault.jpg'}"
            ]
          },
          "metadata": {
            "tags": []
          },
          "execution_count": 93
        }
      ]
    },
    {
      "cell_type": "code",
      "metadata": {
        "id": "BMPfGIdxeeaC"
      },
      "source": [
        "info_array = []\n",
        "info_array.append(info)"
      ],
      "execution_count": 94,
      "outputs": []
    },
    {
      "cell_type": "code",
      "metadata": {
        "id": "0hCOhtmyWKXZ"
      },
      "source": [
        "class YourStyle(Style):\n",
        "    styles = {\n",
        "        Comment:                'ansiwhite',\n",
        "        Keyword:                'bg:ansigray bold #005',\n",
        "        Name:                   'border:#ffffff ansigray bg:ansiblack',\n",
        "        Name.Function:          '#0f0',\n",
        "        Name.Class:             'bold #0f0',\n",
        "        String:                 'ansired',\n",
        "        Number:                 'bg:ansigreen ansigray'\n",
        "    }\n",
        "\n",
        "def json_looks(json_text):\n",
        "  json_str = json.dumps(json_text, sort_keys=True, default=str, indent=\"\\t\")\n",
        "  print(highlight(json_str, JsonLexer(), Terminal256Formatter(style=YourStyle)))"
      ],
      "execution_count": 95,
      "outputs": []
    },
    {
      "cell_type": "code",
      "metadata": {
        "colab": {
          "base_uri": "https://localhost:8080/"
        },
        "id": "zgoyovxSWNPB",
        "outputId": "f57a8f57-8f21-40fc-d005-60e8b8cdd9d5"
      },
      "source": [
        "json_looks(info)"
      ],
      "execution_count": 96,
      "outputs": [
        {
          "output_type": "stream",
          "text": [
            "{\n",
            "\t\u001b[37;40m\"adSupported\"\u001b[39;49m: \u001b[38;5;17;47;01mnull\u001b[39;49;00m,\n",
            "\t\u001b[37;40m\"androidVersion\"\u001b[39;49m: \u001b[31m\"4.1\"\u001b[39m,\n",
            "\t\u001b[37;40m\"androidVersionText\"\u001b[39;49m: \u001b[31m\"4.1 and up\"\u001b[39m,\n",
            "\t\u001b[37;40m\"appId\"\u001b[39;49m: \u001b[31m\"com.mtf.calculator.external\"\u001b[39m,\n",
            "\t\u001b[37;40m\"comments\"\u001b[39;49m: [\n",
            "\t\t\u001b[31m\"Bad apps Cannot login cannot do anything\"\u001b[39m,\n",
            "\t\t\u001b[31m\"Nice apps. User experiencenya improve banget. Kudos!\"\u001b[39m,\n",
            "\t\t\u001b[31m\"Can't login to user page\"\u001b[39m,\n",
            "\t\t\u001b[31m\"Can't sign up.. pls fix it\"\u001b[39m,\n",
            "\t\t\u001b[31m\"Tolong perbaiki sign up nya! Gabisa sign up. App close\"\u001b[39m,\n",
            "\t\t\u001b[31m\"crash saat sign up\"\u001b[39m,\n",
            "\t\t\u001b[31m\"Percuma ada aplikasi, cs nya no respon baik email maupun wa\"\u001b[39m,\n",
            "\t\t\u001b[31m\"Ga bisa login, muncul sesi habis terus.\"\u001b[39m,\n",
            "\t\t\u001b[31m\"mau login aja susah tong\"\u001b[39m,\n",
            "\t\t\u001b[31m\"Nice uda update, sampe saat ini belom ada masalah \\ud83d\\ude01 keep it up\"\u001b[39m,\n",
            "\t\t\u001b[31m\"Cannot login. Padahal nasabah autodebet. Katanya ga support android 10. Saya coba d android 7 jg gbsa, iOS 13.1 jg gbisa.\"\u001b[39m,\n",
            "\t\t\u001b[31m\"fix uninstal..\"\u001b[39m,\n",
            "\t\t\u001b[31m\"Jadi tidak bisa login. Akun tidak terdaftar.\"\u001b[39m,\n",
            "\t\t\u001b[31m\"Dah diperbaiki ternyata. Good job. Semoga jadi terdepan dan semakin didepan\"\u001b[39m,\n",
            "\t\t\u001b[31m\"Keren bgt versi terbarunya! Menarik!\"\u001b[39m,\n",
            "\t\t\u001b[31m\"Wow exceptional\"\u001b[39m,\n",
            "\t\t\u001b[31m\"signup gak bisa, gak dapat token. ---------------------- Update, skrg dpt token yang dikirim ke email (5-10 menit prosesnya, lama) Setelah digunakan, aplikasi luemotnya minta ampun. Padahal game ku yang lebih kompleks dan grafisnya lebih kompleks aja lancar, ini aplikasi yang seharusnya ringan kenapa patah2 dan lelet ya? Pakai MTF Go serasa pakai HP jadul \\ud83d\\ude13\\ud83d\\ude13\\ud83d\\ude13. ---------------------- Update, sesudah update terbaru, sudah tidak lag lagi. Buka aplikasi MTF GO sudah gak berasa pakai HP jadul lagi\"\u001b[39m,\n",
            "\t\t\u001b[31m\"Aksesku msh sama error, fitur yang belum aktif msh tetap sama slama berbulan bulan, sepertinya menang tidak ada niatan untuk pembenahan. Sungguh disayangkan mengingat nama besar mandiri\"\u001b[39m,\n",
            "\t\t\u001b[31m\"Tidak ada opsi sign in. Dulu pas sign up lancar pakainya. Setelah saya ganti HP, download appnya, tidak ketemu opsi sign in. Coba sign up (satu2nya opsi yg tersedia) langsung crash appnya.\"\u001b[39m,\n",
            "\t\t\u001b[31m\"Beberapa minggu terakhir ini, aplikasi selalu crash ketika klik fitur AksesKu. Mohon diperbaiki. Terima kasih.\"\u001b[39m,\n",
            "\t\t\u001b[31m\"Aplikasinya error nihh gak bisa masuk menu \\\"aksesku\\\" \\ud83d\\udc4e\"\u001b[39m,\n",
            "\t\t\u001b[31m\"Kok setiap masuk menu aksesku error trus ya?tolong dibenahin dong\"\u001b[39m,\n",
            "\t\t\u001b[31m\"Kalo blm ready apps nya.. lebih baik jangan dulu di publish Ada baik nya di qc dlu bagian IT nya, apalg kalo pake pihak ke 3\"\u001b[39m,\n",
            "\t\t\u001b[31m\"Saya berulang Kali mencoba login Dari menu aksesku namun tiap Kali login aplikasi langsung tertutup kembali. Ini MTF niat ga sih bikin aplikasi???!! Saya sudah berulang Kali tlp call center tapi ga ada solusi?? Kami ini nasabah mau liat record pembayaran cicilan Mobil kami???!!! Apa perlu di masukan ke Surat pembaca ini MTF!!\"\u001b[39m,\n",
            "\t\t\u001b[31m\"Force quit terus tiap kali mau ke menu akses ku...oiiii...sekelas mandiri,bikin app gak ada guna nya..\"\u001b[39m,\n",
            "\t\t\u001b[31m\"Aplikasinya lemot cacat, saat sign up tidak dikirimkan token nya, uda coba berkali kali tetap sama\"\u001b[39m,\n",
            "\t\t\u001b[31m\"Cacat.. Saya nasabahnya tetapi klik Aksesku diminta isi data pas klik sign up,gagal mulu.. Hahaha.. Esmosis!\"\u001b[39m,\n",
            "\t\t\u001b[31m\"Yg bikin aplikasi masih amatiran ya. Menu aksesku di klik ga keluar\"\u001b[39m,\n",
            "\t\t\u001b[31m\"Tidak bisa buka aksesku, langsung close terus\"\u001b[39m,\n",
            "\t\t\u001b[31m\"Belum bisa dipakai ya? Sign up aja belum bisa.\"\u001b[39m,\n",
            "\t\t\u001b[31m\"Eroorrr...eroooorr terus pas login..gak tau kenapa\"\u001b[39m,\n",
            "\t\t\u001b[31m\"Mantap\"\u001b[39m,\n",
            "\t\t\u001b[31m\"tidak menerima token saat sudah melakukan pendaftaran edited: token sudah berhasil dikirimkan melalui email. aplikasi cukup informatif menampilkan informasi pinjaman. yang kurang cuma respon atas permasalahan sedikit lama\"\u001b[39m,\n",
            "\t\t\u001b[31m\"Layout viewnya menarik dan mudah dipahani, ada katalog unitnya juga sehingga mempermudah kita memilih tipe kendaraan yang sesuai dengan kebutuhan kita. Top banget pokoknya!!\"\u001b[39m,\n",
            "\t\t\u001b[31m\"menarik tampilannya, sangat membantu user utk mengetahui perhitungan dan syarat kredit di MTF, banyak hal kita dapatkan seperti info promo, produk, info kantor cabang, spesifikasi berbagai tipe dan merek mobil, aplikasinya mantap ......\"\u001b[39m,\n",
            "\t\t\u001b[31m\"makin diupdate makin cacad.... parah... login with nya ga fungsi... udah login ga msk2... hrus daftar jg ujung2nya... percuma noh tombol2 login with facebook, twitter n google+ nya...\"\u001b[39m,\n",
            "\t\t\u001b[31m\"Aplikasi MTF GO ini sangat membantu untuk mengetahui informasi harga kendaraan dan agusrannya jika ingin credit\"\u001b[39m,\n",
            "\t\t\u001b[31m\"Aplikasi user friendly, banyak pilihan produk & praktis langsung mengetahui informasi angsuran. Kerennnn...\"\u001b[39m,\n",
            "\t\t\u001b[31m\"Tampilanny Keren dan menarik, tersedia simulasi kredit yang membantu customer banget...mantabzz\\ud83d\\udc4c\"\u001b[39m,\n",
            "\t\t\u001b[31m\"Mempermudah dalam perhitungan kredit.. semua brand mobil ada.. Keren Mandiri Tunas Finance aplikasinya\"\u001b[39m\n",
            "\t],\n",
            "\t\u001b[37;40m\"containsAds\"\u001b[39;49m: \u001b[38;5;17;47;01mfalse\u001b[39;49;00m,\n",
            "\t\u001b[37;40m\"contentRating\"\u001b[39;49m: \u001b[31m\"Everyone\"\u001b[39m,\n",
            "\t\u001b[37;40m\"contentRatingDescription\"\u001b[39;49m: \u001b[38;5;17;47;01mnull\u001b[39;49;00m,\n",
            "\t\u001b[37;40m\"currency\"\u001b[39;49m: \u001b[31m\"USD\"\u001b[39m,\n",
            "\t\u001b[37;40m\"description\"\u001b[39;49m: \u001b[31m\"MTF Mobile Application adalah sebuah aplikasi yang dapat membantu anda untuk mendapatkan informasi mengenai simulasi kredit kendaraan bermotor, produk dan promo yang ada di Mandiri Tunas Finance.\\r\\n\\r\\nSekilas tentang Mandiri Tunas Finance ,\\r\\n\\r\\nSetelah melalui proses akuisisi pada tanggal 6 Februari 2009 oleh PT Bank Mandiri, Tbk., PT Mandiri Tunas Finance menjadi salah satu anak usaha bank terbesar di Indonesia. Dengan dukungan lebih dari 2.300 Cabang Bank Mandiri, Akses Nasabah Mandiri, Event dan branding Mandiri, mendukung pertumbuhan PT Mandiri Tunas Finance menjadi perusahaan Pembiayaan terbesar dan terpercaya di Indonesia.\\r\\n\\r\\nDengan keunggulan produk yang lengkap, bunga yang kompetitif, jaringan 92 Cabang dengan 21 Satelit, serta kerjasama dengan semua merek kendaraan bermotor dan dengan tag line Proses Mudah dan Cepat (Fast & Easy), PT Mandiri Tunas Finance menjadi penyedia Solusi Pembiayaan Otomotif terbaik saat ini.\"\u001b[39m,\n",
            "\t\u001b[37;40m\"descriptionHTML\"\u001b[39;49m: \u001b[31m\"MTF Mobile Application adalah sebuah aplikasi yang dapat membantu anda untuk mendapatkan informasi mengenai simulasi kredit kendaraan bermotor, produk dan promo yang ada di Mandiri Tunas Finance.<br><br>Sekilas tentang Mandiri Tunas Finance ,<br><br>Setelah melalui proses akuisisi pada tanggal 6 Februari 2009 oleh PT Bank Mandiri, Tbk., PT Mandiri Tunas Finance menjadi salah satu anak usaha bank terbesar di Indonesia. Dengan dukungan lebih dari 2.300 Cabang Bank Mandiri, Akses Nasabah Mandiri, Event dan branding Mandiri, mendukung pertumbuhan PT Mandiri Tunas Finance menjadi perusahaan Pembiayaan terbesar dan terpercaya di Indonesia.<br><br>Dengan keunggulan produk yang lengkap, bunga yang kompetitif, jaringan 92 Cabang dengan 21 Satelit, serta kerjasama dengan semua merek kendaraan bermotor dan dengan tag line Proses Mudah dan Cepat (Fast &amp; Easy), PT Mandiri Tunas Finance menjadi penyedia Solusi Pembiayaan Otomotif terbaik saat ini.\"\u001b[39m,\n",
            "\t\u001b[37;40m\"developer\"\u001b[39;49m: \u001b[31m\"Mandiri Tunas Finance\"\u001b[39m,\n",
            "\t\u001b[37;40m\"developerAddress\"\u001b[39;49m: \u001b[38;5;17;47;01mnull\u001b[39;49;00m,\n",
            "\t\u001b[37;40m\"developerEmail\"\u001b[39;49m: \u001b[31m\"mtfinance.id@gmail.co.id\"\u001b[39m,\n",
            "\t\u001b[37;40m\"developerId\"\u001b[39;49m: \u001b[31m\"Mandiri+Tunas+Finance\"\u001b[39m,\n",
            "\t\u001b[37;40m\"developerInternalID\"\u001b[39;49m: \u001b[31m\"4785898978786445514\"\u001b[39m,\n",
            "\t\u001b[37;40m\"developerWebsite\"\u001b[39;49m: \u001b[31m\"http://www.mtf.co.id\"\u001b[39m,\n",
            "\t\u001b[37;40m\"editorsChoice\"\u001b[39;49m: \u001b[38;5;17;47;01mfalse\u001b[39;49;00m,\n",
            "\t\u001b[37;40m\"free\"\u001b[39;49m: \u001b[38;5;17;47;01mtrue\u001b[39;49;00m,\n",
            "\t\u001b[37;40m\"genre\"\u001b[39;49m: \u001b[31m\"Finance\"\u001b[39m,\n",
            "\t\u001b[37;40m\"genreId\"\u001b[39;49m: \u001b[31m\"FINANCE\"\u001b[39m,\n",
            "\t\u001b[37;40m\"headerImage\"\u001b[39;49m: \u001b[31m\"https://play-lh.googleusercontent.com/2_Ba7Q18LiipvHEbJRIhu6JKbe6AmUBHbKULj7gvDaNggcMwoXjIxRnluIaFvBFxdsc\"\u001b[39m,\n",
            "\t\u001b[37;40m\"histogram\"\u001b[39;49m: [\n",
            "\t\t\u001b[37;42m215\u001b[39;49m,\n",
            "\t\t\u001b[37;42m39\u001b[39;49m,\n",
            "\t\t\u001b[37;42m19\u001b[39;49m,\n",
            "\t\t\u001b[37;42m107\u001b[39;49m,\n",
            "\t\t\u001b[37;42m929\u001b[39;49m\n",
            "\t],\n",
            "\t\u001b[37;40m\"icon\"\u001b[39;49m: \u001b[31m\"https://play-lh.googleusercontent.com/t74uZjVwsfZdW3lew0Oa00MAl23D6bZqX3hSgTrjQ9unhBLDLUg-B_qyhV-fSPNaqoY\"\u001b[39m,\n",
            "\t\u001b[37;40m\"inAppProductPrice\"\u001b[39;49m: \u001b[38;5;17;47;01mnull\u001b[39;49;00m,\n",
            "\t\u001b[37;40m\"installs\"\u001b[39;49m: \u001b[31m\"100,000+\"\u001b[39m,\n",
            "\t\u001b[37;40m\"minInstalls\"\u001b[39;49m: \u001b[37;42m100000\u001b[39;49m,\n",
            "\t\u001b[37;40m\"offersIAP\"\u001b[39;49m: \u001b[38;5;17;47;01mfalse\u001b[39;49;00m,\n",
            "\t\u001b[37;40m\"originalPrice\"\u001b[39;49m: \u001b[38;5;17;47;01mnull\u001b[39;49;00m,\n",
            "\t\u001b[37;40m\"price\"\u001b[39;49m: \u001b[37;42m0\u001b[39;49m,\n",
            "\t\u001b[37;40m\"privacyPolicy\"\u001b[39;49m: \u001b[31m\"http://mcalc.mtf.co.id:8887/privacy-policy.html\"\u001b[39m,\n",
            "\t\u001b[37;40m\"ratings\"\u001b[39;49m: \u001b[37;42m1309\u001b[39;49m,\n",
            "\t\u001b[37;40m\"recentChanges\"\u001b[39;49m: \u001b[31m\"1. Desain aplikasi terbaru yang lebih fresh\\r\\n2. Fitur bantuan jika anda mengalami kendala saat log in menu Aksesku\\r\\n3. User experience yang lebih mudah\\r\\n4. Bug dan error fix\"\u001b[39m,\n",
            "\t\u001b[37;40m\"recentChangesHTML\"\u001b[39;49m: \u001b[31m\"1. Desain aplikasi terbaru yang lebih fresh<br>2. Fitur bantuan jika anda mengalami kendala saat log in menu Aksesku<br>3. User experience yang lebih mudah<br>4. Bug dan error fix\"\u001b[39m,\n",
            "\t\u001b[37;40m\"released\"\u001b[39;49m: \u001b[38;5;17;47;01mnull\u001b[39;49;00m,\n",
            "\t\u001b[37;40m\"reviews\"\u001b[39;49m: \u001b[37;42m601\u001b[39;49m,\n",
            "\t\u001b[37;40m\"sale\"\u001b[39;49m: \u001b[38;5;17;47;01mfalse\u001b[39;49;00m,\n",
            "\t\u001b[37;40m\"saleText\"\u001b[39;49m: \u001b[38;5;17;47;01mnull\u001b[39;49;00m,\n",
            "\t\u001b[37;40m\"saleTime\"\u001b[39;49m: \u001b[38;5;17;47;01mnull\u001b[39;49;00m,\n",
            "\t\u001b[37;40m\"score\"\u001b[39;49m: \u001b[37;42m4.141791\u001b[39;49m,\n",
            "\t\u001b[37;40m\"screenshots\"\u001b[39;49m: [\n",
            "\t\t\u001b[31m\"https://play-lh.googleusercontent.com/h32U64tnW5iGaKAll9nbNv4SwfzpBqaEFLevZSZiZMiDiIgvJIHoibjryymyGtM5gg\"\u001b[39m,\n",
            "\t\t\u001b[31m\"https://play-lh.googleusercontent.com/p3maydBG7aVEyS5bK1vcd2rGIJQC2oJ2bCtIj1OVb2m-QtEJRcG_6W-8IbthvYUCaEo\"\u001b[39m,\n",
            "\t\t\u001b[31m\"https://play-lh.googleusercontent.com/lEA3PYh4h8rMGNoDjN0h3vtp21lQBYJ8AY1IvFdmp46P18AgVklolwpEA_PEZz6zQGE\"\u001b[39m,\n",
            "\t\t\u001b[31m\"https://play-lh.googleusercontent.com/wQcWKfTHi2AvDwnck1R_pws07OCJve9MX7ddbLHWpcgUssZN_Khha_IisOmkPNAbrco\"\u001b[39m,\n",
            "\t\t\u001b[31m\"https://play-lh.googleusercontent.com/yt2X0i0MLc9jLWCTnfgdre-9ZrbRkTWVZTygr4MLdp_v0hggFBpLyM3ObQ0z5vX7reo\"\u001b[39m,\n",
            "\t\t\u001b[31m\"https://play-lh.googleusercontent.com/GLSznMefGitcxrQvYUiJvGcuYVvTrOa_vksBmnpKESDoszGApssaDm7p9FuytUgJH2c\"\u001b[39m,\n",
            "\t\t\u001b[31m\"https://play-lh.googleusercontent.com/mohzr4BcLiLu-x0zHU2NDjQhUhW5F5EvyWbbjL4GKxXv5DTSlq9yyx7vD057yn_EOIY\"\u001b[39m,\n",
            "\t\t\u001b[31m\"https://play-lh.googleusercontent.com/rBzyrmRldBxa_axG2zfxTwgkzgxegFZ6GcVHIJMUe6tzXxFSunYMk1L82nZ8F95bwg\"\u001b[39m\n",
            "\t],\n",
            "\t\u001b[37;40m\"size\"\u001b[39;49m: \u001b[31m\"16M\"\u001b[39m,\n",
            "\t\u001b[37;40m\"summary\"\u001b[39;49m: \u001b[31m\"Aplikasi simulasi perhitungan kredit, informasi katalog kendaraan dan promosi\"\u001b[39m,\n",
            "\t\u001b[37;40m\"summaryHTML\"\u001b[39;49m: \u001b[31m\"Aplikasi simulasi perhitungan kredit, informasi katalog kendaraan dan promosi\"\u001b[39m,\n",
            "\t\u001b[37;40m\"title\"\u001b[39;49m: \u001b[31m\"MTF GO\"\u001b[39m,\n",
            "\t\u001b[37;40m\"updated\"\u001b[39;49m: \u001b[37;42m1601534263\u001b[39;49m,\n",
            "\t\u001b[37;40m\"url\"\u001b[39;49m: \u001b[31m\"https://play.google.com/store/apps/details?id=com.mtf.calculator.external&hl=en&gl=us\"\u001b[39m,\n",
            "\t\u001b[37;40m\"version\"\u001b[39;49m: \u001b[31m\"3.1.9\"\u001b[39m,\n",
            "\t\u001b[37;40m\"video\"\u001b[39;49m: \u001b[31m\"https://www.youtube.com/embed/v9seF8Wugls?ps=play&vq=large&rel=0&autohide=1&showinfo=0\"\u001b[39m,\n",
            "\t\u001b[37;40m\"videoImage\"\u001b[39;49m: \u001b[31m\"https://i.ytimg.com/vi/v9seF8Wugls/hqdefault.jpg\"\u001b[39m\n",
            "}\n",
            "\n"
          ],
          "name": "stdout"
        }
      ]
    },
    {
      "cell_type": "code",
      "metadata": {
        "id": "eKfttEc6We67"
      },
      "source": [
        "# app_info = convert_to_json(info)\n",
        "app_info_df = pd.DataFrame(info_array)\n",
        "app_info_df\n",
        "app_info_df.to_csv('app_info.csv', index=None, header=True)"
      ],
      "execution_count": null,
      "outputs": []
    },
    {
      "cell_type": "code",
      "metadata": {
        "id": "KrN4hhDgW6JU"
      },
      "source": [
        "result = reviews_all(\n",
        "    'com.mtf.calculator.external',\n",
        "    sleep_milliseconds=0, # defaults to 0\n",
        "    sort=Sort.MOST_RELEVANT, # defaults to Sort.MOST_RELEVANT\n",
        "    count= 200\n",
        "\n",
        ")"
      ],
      "execution_count": 97,
      "outputs": []
    },
    {
      "cell_type": "code",
      "metadata": {
        "colab": {
          "base_uri": "https://localhost:8080/"
        },
        "id": "IjkxIzHmXDrv",
        "outputId": "6467397b-d6b7-4099-b002-67bf88bcdb92"
      },
      "source": [
        "len(result)"
      ],
      "execution_count": 98,
      "outputs": [
        {
          "output_type": "execute_result",
          "data": {
            "text/plain": [
              "165"
            ]
          },
          "metadata": {
            "tags": []
          },
          "execution_count": 98
        }
      ]
    },
    {
      "cell_type": "code",
      "metadata": {
        "colab": {
          "base_uri": "https://localhost:8080/"
        },
        "id": "cCclczpCpFq2",
        "outputId": "59dff4e4-d558-4918-e804-2807ef484379"
      },
      "source": [
        "json_looks(result[0:3])"
      ],
      "execution_count": 99,
      "outputs": [
        {
          "output_type": "stream",
          "text": [
            "[\n",
            "\t{\n",
            "\t\t\u001b[37;40m\"at\"\u001b[39;49m: \u001b[31m\"2020-07-27 04:55:40\"\u001b[39m,\n",
            "\t\t\u001b[37;40m\"content\"\u001b[39;49m: \u001b[31m\"Bad apps Cannot login cannot do anything\"\u001b[39m,\n",
            "\t\t\u001b[37;40m\"repliedAt\"\u001b[39;49m: \u001b[38;5;17;47;01mnull\u001b[39;49;00m,\n",
            "\t\t\u001b[37;40m\"replyContent\"\u001b[39;49m: \u001b[38;5;17;47;01mnull\u001b[39;49;00m,\n",
            "\t\t\u001b[37;40m\"reviewCreatedVersion\"\u001b[39;49m: \u001b[31m\"3.1.8\"\u001b[39m,\n",
            "\t\t\u001b[37;40m\"reviewId\"\u001b[39;49m: \u001b[31m\"gp:AOqpTOFDoQrpT4NsatS2MyYZvwFQDYjaB2FjvJYgusVnXnKgzaZ42UBYbxhB8SX-0dZjMyjCkVFFTpI3zW2fhjY\"\u001b[39m,\n",
            "\t\t\u001b[37;40m\"score\"\u001b[39;49m: \u001b[37;42m1\u001b[39;49m,\n",
            "\t\t\u001b[37;40m\"thumbsUpCount\"\u001b[39;49m: \u001b[37;42m3\u001b[39;49m,\n",
            "\t\t\u001b[37;40m\"userImage\"\u001b[39;49m: \u001b[31m\"https://play-lh.googleusercontent.com/a-/AOh14GheWz2Mzneqj4pH2RYjjcLDcr9QjnyuFL9ck12VqA\"\u001b[39m,\n",
            "\t\t\u001b[37;40m\"userName\"\u001b[39;49m: \u001b[31m\"Marwan Gunawan\"\u001b[39m\n",
            "\t},\n",
            "\t{\n",
            "\t\t\u001b[37;40m\"at\"\u001b[39;49m: \u001b[31m\"2020-10-02 04:15:42\"\u001b[39m,\n",
            "\t\t\u001b[37;40m\"content\"\u001b[39;49m: \u001b[31m\"Nice apps. User experiencenya improve banget. Kudos!\"\u001b[39m,\n",
            "\t\t\u001b[37;40m\"repliedAt\"\u001b[39;49m: \u001b[38;5;17;47;01mnull\u001b[39;49;00m,\n",
            "\t\t\u001b[37;40m\"replyContent\"\u001b[39;49m: \u001b[38;5;17;47;01mnull\u001b[39;49;00m,\n",
            "\t\t\u001b[37;40m\"reviewCreatedVersion\"\u001b[39;49m: \u001b[38;5;17;47;01mnull\u001b[39;49;00m,\n",
            "\t\t\u001b[37;40m\"reviewId\"\u001b[39;49m: \u001b[31m\"gp:AOqpTOGX8nwMzgSrVsa66IBwsM5BF3nA2U6ZSbYm02Y6CorD3SJzWpsgSnwJJug-XpTGP9QQP3c4L1uTy13PYrg\"\u001b[39m,\n",
            "\t\t\u001b[37;40m\"score\"\u001b[39;49m: \u001b[37;42m5\u001b[39;49m,\n",
            "\t\t\u001b[37;40m\"thumbsUpCount\"\u001b[39;49m: \u001b[37;42m1\u001b[39;49m,\n",
            "\t\t\u001b[37;40m\"userImage\"\u001b[39;49m: \u001b[31m\"https://play-lh.googleusercontent.com/--JjdFbxaPTE/AAAAAAAAAAI/AAAAAAAAAAA/AMZuucn_m7ebBFCOamiVZrw2hqrYeMkx_g/photo.jpg\"\u001b[39m,\n",
            "\t\t\u001b[37;40m\"userName\"\u001b[39;49m: \u001b[31m\"Dahana Project\"\u001b[39m\n",
            "\t},\n",
            "\t{\n",
            "\t\t\u001b[37;40m\"at\"\u001b[39;49m: \u001b[31m\"2020-10-27 13:44:41\"\u001b[39m,\n",
            "\t\t\u001b[37;40m\"content\"\u001b[39;49m: \u001b[31m\"Can't login to user page\"\u001b[39m,\n",
            "\t\t\u001b[37;40m\"repliedAt\"\u001b[39;49m: \u001b[38;5;17;47;01mnull\u001b[39;49;00m,\n",
            "\t\t\u001b[37;40m\"replyContent\"\u001b[39;49m: \u001b[38;5;17;47;01mnull\u001b[39;49;00m,\n",
            "\t\t\u001b[37;40m\"reviewCreatedVersion\"\u001b[39;49m: \u001b[38;5;17;47;01mnull\u001b[39;49;00m,\n",
            "\t\t\u001b[37;40m\"reviewId\"\u001b[39;49m: \u001b[31m\"gp:AOqpTOGLoloxc0RO09nU7OQ-wvxocVZe9JJMN9iNCw-5XRHXJD1CJI-WVKpDg7ShjyOq1thACzp-mJLJkrv27b0\"\u001b[39m,\n",
            "\t\t\u001b[37;40m\"score\"\u001b[39;49m: \u001b[37;42m1\u001b[39;49m,\n",
            "\t\t\u001b[37;40m\"thumbsUpCount\"\u001b[39;49m: \u001b[37;42m1\u001b[39;49m,\n",
            "\t\t\u001b[37;40m\"userImage\"\u001b[39;49m: \u001b[31m\"https://play-lh.googleusercontent.com/a-/AOh14GiL6JCOtwrA6jrmC3hSwYjts40Ew9CO9Dsr_sc2\"\u001b[39m,\n",
            "\t\t\u001b[37;40m\"userName\"\u001b[39;49m: \u001b[31m\"dhani may\"\u001b[39m\n",
            "\t}\n",
            "]\n",
            "\n"
          ],
          "name": "stdout"
        }
      ]
    },
    {
      "cell_type": "code",
      "metadata": {
        "id": "ohORv2VzohPG"
      },
      "source": [
        "app_rev_df = pd.DataFrame(result)\n",
        "app_rev_df.to_csv('app_rev.csv', index=None, header=True)"
      ],
      "execution_count": null,
      "outputs": []
    },
    {
      "cell_type": "code",
      "metadata": {
        "id": "vzSyRZwMot-8"
      },
      "source": [
        ""
      ],
      "execution_count": 99,
      "outputs": []
    },
    {
      "cell_type": "code",
      "metadata": {
        "id": "rznARgLeiSKs"
      },
      "source": [
        ""
      ],
      "execution_count": null,
      "outputs": []
    }
  ]
}